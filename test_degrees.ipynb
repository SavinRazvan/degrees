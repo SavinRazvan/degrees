{
 "cells": [
  {
   "cell_type": "markdown",
   "metadata": {},
   "source": [
    "## Degrees\n",
    "\n",
    "This project involves writing a program to determine the \"degrees of separation\" between two actors based on the movies they have starred in, inspired by the concept of the Six Degrees of Kevin Bacon game.\n",
    "\n",
    "### Objective\n",
    "\n",
    "Write a program that computes the shortest path between any two actors by identifying the sequence of movies that connects them.\n",
    "\n",
    "### Data\n",
    "\n",
    "The project uses datasets based on IMDb, containing information about actors, movies, and the relationships between them. These datasets include `people.csv`, `movies.csv`, and `stars.csv`, which provide the necessary details to compute the degrees of separation.\n"
   ]
  },
  {
   "cell_type": "markdown",
   "metadata": {},
   "source": [
    "---\n",
    "\n",
    "### Degrees of separation between:\n",
    "    - Kevin Bacon\n",
    "    - Tom Hanks"
   ]
  },
  {
   "cell_type": "code",
   "execution_count": 1,
   "metadata": {},
   "outputs": [
    {
     "name": "stdout",
     "output_type": "stream",
     "text": [
      "Output:\n",
      " Loading data...\n",
      "Data loaded.\n",
      "Result: 1 degrees of separation.\n",
      "1: Kevin Bacon and Tom Hanks starred in Apollo 13\n"
     ]
    }
   ],
   "source": [
    "import subprocess\n",
    "\n",
    "# Function to run the script and capture output\n",
    "def run_degrees_script(dataset_directory, source, target):\n",
    "    # Construct the command\n",
    "    command = [\"python\", \"degrees.py\", dataset_directory]\n",
    "\n",
    "    try:\n",
    "        # Use subprocess to run the command\n",
    "        process = subprocess.Popen(command, stdin=subprocess.PIPE, stdout=subprocess.PIPE, stderr=subprocess.PIPE, text=True)\n",
    "\n",
    "        # Provide input to the script\n",
    "        input_data = f\"{source}\\n{target}\\n\"\n",
    "        stdout, stderr = process.communicate(input=input_data)\n",
    "\n",
    "        # Process the stdout to remove duplicate \"Name: Name:\"\n",
    "        cleaned_stdout = stdout.replace(\"Name: Name:\", \"Result:\").strip()\n",
    "\n",
    "        # Print the captured output and errors (if any)\n",
    "        if cleaned_stdout:\n",
    "            print(\"Output:\\n\", cleaned_stdout)\n",
    "        \n",
    "        if stderr.strip():\n",
    "            print(\"Errors:\\n\", stderr.strip())\n",
    "\n",
    "    except subprocess.CalledProcessError as e:\n",
    "        print(f\"An error occurred while running the script: {e}\")\n",
    "\n",
    "# Define the dataset directory, source and target names\n",
    "dataset_directory = \"small\"\n",
    "source = \"Kevin Bacon\"\n",
    "target = \"Tom Hanks\"\n",
    "\n",
    "# Run the script\n",
    "run_degrees_script(dataset_directory, source, target)\n"
   ]
  },
  {
   "cell_type": "markdown",
   "metadata": {},
   "source": [
    "---\n",
    "\n",
    "### Degrees of separation between:\n",
    "    - Emma Watson\n",
    "    - Jennifer Lawrence"
   ]
  },
  {
   "cell_type": "code",
   "execution_count": 2,
   "metadata": {},
   "outputs": [
    {
     "name": "stdout",
     "output_type": "stream",
     "text": [
      "Output:\n",
      " Loading data...\n",
      "Data loaded.\n",
      "Result: 3 degrees of separation.\n",
      "1: Emma Watson and Michael Gambon starred in Harry Potter and the Deathly Hallows: Part 2\n",
      "2: Michael Gambon and Charlotte Rampling starred in Paris by Night\n",
      "3: Charlotte Rampling and Jennifer Lawrence starred in Red Sparrow\n"
     ]
    }
   ],
   "source": [
    "import subprocess\n",
    "\n",
    "# Function to run the script and capture output\n",
    "def run_degrees_script(dataset_directory, source, target):\n",
    "    # Construct the command\n",
    "    command = [\"python\", \"degrees.py\", dataset_directory]\n",
    "\n",
    "    try:\n",
    "        # Use subprocess to run the command\n",
    "        process = subprocess.Popen(command, stdin=subprocess.PIPE, stdout=subprocess.PIPE, stderr=subprocess.PIPE, text=True)\n",
    "\n",
    "        # Provide input to the script\n",
    "        input_data = f\"{source}\\n{target}\\n\"\n",
    "        stdout, stderr = process.communicate(input=input_data)\n",
    "\n",
    "        # Process the stdout to remove duplicate \"Name: Name:\"\n",
    "        cleaned_stdout = stdout.replace(\"Name: Name:\", \"Result:\").strip()\n",
    "\n",
    "        # Print the captured output and errors (if any)\n",
    "        if cleaned_stdout:\n",
    "            print(\"Output:\\n\", cleaned_stdout)\n",
    "        \n",
    "        if stderr.strip():\n",
    "            print(\"Errors:\\n\", stderr.strip())\n",
    "\n",
    "    except subprocess.CalledProcessError as e:\n",
    "        print(f\"An error occurred while running the script: {e}\")\n",
    "\n",
    "# Define the dataset directory, source and target names\n",
    "dataset_directory = \"large\"\n",
    "source = \"Emma Watson\"\n",
    "target = \"Jennifer Lawrence\"\n",
    "\n",
    "# Run the script\n",
    "run_degrees_script(dataset_directory, source, target)\n"
   ]
  },
  {
   "cell_type": "markdown",
   "metadata": {},
   "source": [
    "---\n",
    "\n",
    "### Degrees of separation between:\n",
    "    - Juliane Banse\n",
    "    - Julian Acosta"
   ]
  },
  {
   "cell_type": "code",
   "execution_count": 3,
   "metadata": {},
   "outputs": [
    {
     "name": "stdout",
     "output_type": "stream",
     "text": [
      "Output:\n",
      " Loading data...\n",
      "Data loaded.\n",
      "Result: 8 degrees of separation.\n",
      "1: Juliane Banse and Regula Mühlemann starred in Hunter's Bride\n",
      "2: Regula Mühlemann and Ramón Vargas starred in Of the Voice\n",
      "3: Ramón Vargas and Alessandro Corbelli starred in The Elixir of Love\n",
      "4: Alessandro Corbelli and Angela Gheorghiu starred in Adriana Lecouvreur\n",
      "5: Angela Gheorghiu and Bono starred in Pavarotti\n",
      "6: Bono and Bruce Davison starred in Hero with a Thousand Faces\n",
      "7: Bruce Davison and Randall Batinkoff starred in Munger Road\n",
      "8: Randall Batinkoff and Julian Acosta starred in True Love\n"
     ]
    }
   ],
   "source": [
    "import subprocess\n",
    "\n",
    "# Function to run the script and capture output\n",
    "def run_degrees_script(dataset_directory, source, target):\n",
    "    # Construct the command\n",
    "    command = [\"python\", \"degrees.py\", dataset_directory]\n",
    "\n",
    "    try:\n",
    "        # Use subprocess to run the command\n",
    "        process = subprocess.Popen(command, stdin=subprocess.PIPE, stdout=subprocess.PIPE, stderr=subprocess.PIPE, text=True)\n",
    "\n",
    "        # Provide input to the script\n",
    "        input_data = f\"{source}\\n{target}\\n\"\n",
    "        stdout, stderr = process.communicate(input=input_data)\n",
    "\n",
    "        # Process the stdout to remove duplicate \"Name: Name:\"\n",
    "        cleaned_stdout = stdout.replace(\"Name: Name:\", \"Result:\").strip()\n",
    "\n",
    "        # Print the captured output and errors (if any)\n",
    "        if cleaned_stdout:\n",
    "            print(\"Output:\\n\", cleaned_stdout)\n",
    "        \n",
    "        if stderr.strip():\n",
    "            print(\"Errors:\\n\", stderr.strip())\n",
    "\n",
    "    except subprocess.CalledProcessError as e:\n",
    "        print(f\"An error occurred while running the script: {e}\")\n",
    "\n",
    "# Define the dataset directory, source and target names\n",
    "dataset_directory = \"large\"\n",
    "source = \"Juliane Banse\"\n",
    "target = \"Julian Acosta\"\n",
    "\n",
    "# Run the script\n",
    "run_degrees_script(dataset_directory, source, target)\n"
   ]
  },
  {
   "cell_type": "markdown",
   "metadata": {},
   "source": [
    "---\n",
    "\n",
    "### Or you can run `degrees.py` file\n",
    "\n",
    "Usage Example\n",
    "\n",
    "```console\n",
    "python degrees.py large\n",
    "```\n",
    "\n",
    "```console\n",
    "Loading data...\n",
    "Data loaded.\n",
    "Name: Emma Watson\n",
    "Name: Jennifer Lawrence\n",
    "3 degrees of separation.\n",
    "1: Emma Watson and Meryl Streep starred in Little Women\n",
    "2: Meryl Streep and Robert De Niro starred in Falling in Love\n",
    "3: Robert De Niro and Jennifer Lawrence starred in Joy\n",
    "```\n",
    "\n"
   ]
  }
 ],
 "metadata": {
  "kernelspec": {
   "display_name": ".conda",
   "language": "python",
   "name": "python3"
  },
  "language_info": {
   "codemirror_mode": {
    "name": "ipython",
    "version": 3
   },
   "file_extension": ".py",
   "mimetype": "text/x-python",
   "name": "python",
   "nbconvert_exporter": "python",
   "pygments_lexer": "ipython3",
   "version": "3.12.4"
  }
 },
 "nbformat": 4,
 "nbformat_minor": 2
}
